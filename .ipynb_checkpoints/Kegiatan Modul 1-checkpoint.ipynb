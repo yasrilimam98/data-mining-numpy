{
 "cells": [
  {
   "cell_type": "markdown",
   "metadata": {
    "colab_type": "text",
    "id": "GqYkgeEdhDa4"
   },
   "source": [
    "# **Kegiatan Modul 1**"
   ]
  },
  {
   "cell_type": "markdown",
   "metadata": {
    "colab_type": "text",
    "id": "ux11t5HIAiYK"
   },
   "source": [
    "**Poin penilaian :**\n",
    "\n",
    "* Tingkat kesesuaian output program\n",
    "* Kerapian kode program\n",
    "* Kesederhanaan Kode"
   ]
  },
  {
   "cell_type": "markdown",
   "metadata": {
    "colab_type": "text",
    "id": "omlcQzYu6ppu"
   },
   "source": [
    "Kegiatan 1 : **15 poin**\n",
    "\n",
    "Terdapat suatu list seperti berikut : `a=[1, 2, 3, 4, 5, 6, 7, 8, 9, 10]`. Buatlah program untuk mencari suatu angka dalam list."
   ]
  },
  {
   "cell_type": "markdown",
   "metadata": {
    "colab_type": "text",
    "id": "o_YA1AZQhWiW"
   },
   "source": [
    "```\n",
    "Cari : 5\n",
    "Output : 5 found at index 4\n",
    "```"
   ]
  },
  {
   "cell_type": "code",
   "execution_count": 3,
   "metadata": {
    "colab": {},
    "colab_type": "code",
    "id": "S8w3r2KA5I3D"
   },
   "outputs": [
    {
     "name": "stdout",
     "output_type": "stream",
     "text": [
      "Search :2\n",
      "b found at index 1\n"
     ]
    }
   ],
   "source": [
    "# TULIS CODE ANDA DISINI\n",
    "a = [1,2,3,4,5,6,7,8,9,10]\n",
    "\n",
    "b = int(input(\"Search :\"))\n",
    "if (b in a):\n",
    "    print(\"b found at index \" + str(a.index(b)))"
   ]
  },
  {
   "cell_type": "markdown",
   "metadata": {
    "colab_type": "text",
    "id": "fPPC2Tml-HuD"
   },
   "source": [
    "Kegiatan 2 : **15 poin**\n",
    "\n",
    "Tulis program Python untuk menghapus tupel kosong dari daftar list tupel dibawah."
   ]
  },
  {
   "cell_type": "code",
   "execution_count": 4,
   "metadata": {
    "colab": {},
    "colab_type": "code",
    "id": "jWPFcTI7F-f9"
   },
   "outputs": [],
   "source": [
    "L = [('informatika', 'umm'), (), (), ('praktikum', 'data', 'mining'), ('Berhasil')]"
   ]
  },
  {
   "cell_type": "markdown",
   "metadata": {
    "colab_type": "text",
    "id": "SKK50Xdwhh5P"
   },
   "source": [
    "```\n",
    "# Output : [('informatika', 'umm'), ('praktikum', 'data', 'mining'), 'Berhasil']\n",
    "```\n",
    "\n"
   ]
  },
  {
   "cell_type": "code",
   "execution_count": 12,
   "metadata": {
    "colab": {},
    "colab_type": "code",
    "id": "8Tip9AweMJPe"
   },
   "outputs": [
    {
     "name": "stdout",
     "output_type": "stream",
     "text": [
      "[('informatika', 'umm'), ('praktikum', 'data', 'mining'), 'Berhasil']\n"
     ]
    }
   ],
   "source": [
    "# TULIS CODE ANDA DISINI\n",
    "b = filter(None, L)\n",
    "print(list(b))"
   ]
  },
  {
   "cell_type": "markdown",
   "metadata": {
    "colab_type": "text",
    "id": "BebD64E6IkYt"
   },
   "source": [
    "Kegiatan 3 : **15 poin**\n",
    "\n",
    "Urutkan daftar tuple dibawah ini berdasarkan nilai **desimalnya** dari kecil ke besar."
   ]
  },
  {
   "cell_type": "code",
   "execution_count": 14,
   "metadata": {
    "colab": {},
    "colab_type": "code",
    "id": "VUPWITxTIjxK"
   },
   "outputs": [],
   "source": [
    "times = [('Isya', '19.10'), ('Dzuhur', '12.20'), ('Tidur', '24.5'), ('Ashar', '15.10'), ('Magrib', '17.40')]"
   ]
  },
  {
   "cell_type": "markdown",
   "metadata": {
    "colab_type": "text",
    "id": "MkoCh0jGhoS8"
   },
   "source": [
    "```\n",
    "# Output : [('Dzuhur', '12.20'), ('Ashar', '15.10'), ('Magrib', '17.40'), ('Isya', '19.10'), ('Tidur', '24.5')]\n",
    "```\n",
    "\n"
   ]
  },
  {
   "cell_type": "code",
   "execution_count": 15,
   "metadata": {
    "colab": {},
    "colab_type": "code",
    "id": "1XyK6eKjMj9e"
   },
   "outputs": [
    {
     "data": {
      "text/plain": [
       "[('Dzuhur', '12.20'),\n",
       " ('Ashar', '15.10'),\n",
       " ('Magrib', '17.40'),\n",
       " ('Isya', '19.10'),\n",
       " ('Tidur', '24.5')]"
      ]
     },
     "execution_count": 15,
     "metadata": {},
     "output_type": "execute_result"
    }
   ],
   "source": [
    "# TULIS CODE ANDA DISINI\n",
    "def getKey(item):\n",
    "    return item[1]\n",
    "sorted(times, key=getKey)"
   ]
  },
  {
   "cell_type": "markdown",
   "metadata": {
    "colab_type": "text",
    "id": "DORXqfrPK0gY"
   },
   "source": [
    "Kegiatan 4 : **10 poin**\n",
    "\n",
    "Tulis program Python untuk menghapus elemen bernilai duplikat dari list."
   ]
  },
  {
   "cell_type": "code",
   "execution_count": 0,
   "metadata": {
    "colab": {},
    "colab_type": "code",
    "id": "emhJdGcPIUKU"
   },
   "outputs": [],
   "source": [
    "a = [10,20,30,20,10,50,60,40,80,50,40]"
   ]
  },
  {
   "cell_type": "markdown",
   "metadata": {
    "colab_type": "text",
    "id": "_5JYTo-MhwBT"
   },
   "source": [
    "```\n",
    "# Output : a = [10, 20, 30, 50, 60, 40, 80]\n",
    "```\n",
    "\n"
   ]
  },
  {
   "cell_type": "code",
   "execution_count": 0,
   "metadata": {
    "colab": {},
    "colab_type": "code",
    "id": "nYmaOHLwNS4y"
   },
   "outputs": [],
   "source": [
    "# TULIS CODE ANDA DISINI"
   ]
  },
  {
   "cell_type": "markdown",
   "metadata": {
    "colab_type": "text",
    "id": "td5pdXryP7fT"
   },
   "source": [
    "Kegiatan 5 : **15 poin**\n",
    "\n",
    "Buat program untuk mengkonversi numpy array menjadi list dan tuple."
   ]
  },
  {
   "cell_type": "code",
   "execution_count": 0,
   "metadata": {
    "colab": {},
    "colab_type": "code",
    "id": "GcBdjZGNh1Jd"
   },
   "outputs": [],
   "source": [
    "# TULIS CODE ANDA DISINI"
   ]
  },
  {
   "cell_type": "markdown",
   "metadata": {
    "colab_type": "text",
    "id": "5rATFK-MQVSA"
   },
   "source": [
    "Kegiatan 6 : **10 poin**\n",
    "\n",
    "Tulis program NumPy untuk menghitung jarak Euclidean dari p1 dan p2."
   ]
  },
  {
   "cell_type": "code",
   "execution_count": 0,
   "metadata": {
    "colab": {},
    "colab_type": "code",
    "id": "0aIGIuhXh4ui"
   },
   "outputs": [],
   "source": [
    "p1 = (1, 2, 3)\n",
    "p2 = (4, 5, 6)"
   ]
  },
  {
   "cell_type": "markdown",
   "metadata": {
    "colab_type": "text",
    "id": "Llvbf5fsiQYN"
   },
   "source": [
    "```\n",
    "# Output\n",
    "Euclidean distance:  5.196152422706632\n",
    "```\n"
   ]
  },
  {
   "cell_type": "code",
   "execution_count": 0,
   "metadata": {
    "colab": {},
    "colab_type": "code",
    "id": "k22LwuERh27M"
   },
   "outputs": [],
   "source": [
    "# TULIS CODE ANDA DISINI"
   ]
  },
  {
   "cell_type": "markdown",
   "metadata": {
    "colab_type": "text",
    "id": "d2KMG5L3QmQd"
   },
   "source": [
    "Kegiatan 7 : **20 poin**\n",
    "\n",
    "Tulis program NumPy untuk menghitung frekuensi keluarnya nilai di dalam array numpy berikut."
   ]
  },
  {
   "cell_type": "code",
   "execution_count": 0,
   "metadata": {
    "colab": {},
    "colab_type": "code",
    "id": "ZZbDu5XOPPkG"
   },
   "outputs": [],
   "source": [
    "import numpy as np\n",
    "a = np.array( [40,20,10,30,20,40,30,10,20,50,10,40] )"
   ]
  },
  {
   "cell_type": "markdown",
   "metadata": {
    "colab_type": "text",
    "id": "XtKOzbP5icod"
   },
   "source": [
    "```\n",
    "# Output\n",
    "Jumlah nilai unik dari array:\n",
    "[[10 20 30 40 50]\n",
    " [ 3  3  2  3  1]]\n",
    "```\n"
   ]
  },
  {
   "cell_type": "code",
   "execution_count": 0,
   "metadata": {
    "colab": {},
    "colab_type": "code",
    "id": "yrj0ZAjBh4Pd"
   },
   "outputs": [],
   "source": [
    "# TULIS CODE ANDA DISINI"
   ]
  }
 ],
 "metadata": {
  "colab": {
   "collapsed_sections": [],
   "name": "Kegiatan Modul 1.ipynb",
   "provenance": []
  },
  "kernelspec": {
   "display_name": "Python 3",
   "language": "python",
   "name": "python3"
  },
  "language_info": {
   "codemirror_mode": {
    "name": "ipython",
    "version": 3
   },
   "file_extension": ".py",
   "mimetype": "text/x-python",
   "name": "python",
   "nbconvert_exporter": "python",
   "pygments_lexer": "ipython3",
   "version": "3.7.3"
  }
 },
 "nbformat": 4,
 "nbformat_minor": 1
}
